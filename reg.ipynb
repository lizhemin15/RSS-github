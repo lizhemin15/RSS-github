{
 "cells": [
  {
   "cell_type": "code",
   "execution_count": null,
   "metadata": {},
   "outputs": [],
   "source": [
    "# DMF+AIR\n",
    "import rss\n",
    "\n",
    "parameters = {}\n",
    "net_list = []\n",
    "net_list.append({'net_name':'DMF','sizes':[256,256,256]})\n",
    "\n",
    "parameters['net_p'] = {'gpu_id':3,'net_name':'composition','net_list':net_list}\n",
    "parameters['data_p'] = {'data_shape':(256,256),'random_rate':0.5,\n",
    "                        'pre_full':True,'mask_type':'img','data_path':'./data/img/man.bmp','data_type':'gray_img', 'mask_path': './data/mask/mask.png'}\n",
    "parameters['train_p'] = {'train_epoch':2000}\n",
    "parameters['show_p'] = {'show_type':'gray_img','show_content':'original'}\n",
    "parameters['reg_p'] = {'reg_name':'MultiReg','reg_list':[{'reg_name':'AIR','coef':1e-1,'n':256,'mode':0},{'reg_name':'AIR','coef':1e-1,'n':256,'mode':1}]}\n",
    "#parameters['reg_p'] = {'reg_name':'MultiReg','reg_list':[{'reg_name':'INRR','coef':1e-2,'n':256,'mode':0},{'reg_name':'INRR','coef':1e-2,'n':256,'mode':1}]}\n",
    "parameters['opt_p'] = {'reg': {'opt_name': 'Adam', 'lr': 1e-3, 'weight_decay': 0}}\n",
    "rssnet = rss.rssnet(parameters)\n",
    "\n",
    "rssnet.show()\n",
    "rssnet.show_p['show_content'] = 'recovered'\n",
    "for i in range(10):\n",
    "    rssnet.train()\n",
    "    rssnet.show()"
   ]
  }
 ],
 "metadata": {
  "language_info": {
   "name": "python"
  }
 },
 "nbformat": 4,
 "nbformat_minor": 2
}
