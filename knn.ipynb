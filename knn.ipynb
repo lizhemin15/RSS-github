{
 "cells": [
  {
   "cell_type": "code",
   "execution_count": null,
   "metadata": {},
   "outputs": [],
   "source": [
    "# random sampling\n",
    "import rss\n",
    "import numpy as np\n",
    "import time\n",
    "start_time = time.time()\n",
    "    \n",
    "parameters = {}\n",
    "net_list = []\n",
    "net_list.append({'net_name':'KNN','sizes':[256,256],'dim_cor':[64,64],'mode':'tensor','weights':'distance'})\n",
    "\n",
    "parameters['net_p'] = {'gpu_id':'cpu','net_name':'composition','net_list':net_list}\n",
    "parameters['data_p'] = {'data_shape':(256,256),'random_rate':0.5,\n",
    "                        'pre_full':True,'mask_type':'random','down_sample_rate':2,\n",
    "                        'data_type':'gray_img','data_path':'./data/img/baboon.bmp'}\n",
    "parameters['train_p'] = {'train_epoch':20}\n",
    "parameters['show_p'] = {'show_type':'gray_img','show_content':'original'}\n",
    "parameters['opt_p'] = {'net': {'opt_name': 'Adam', 'lr': 1e-1, 'weight_decay': 0}}\n",
    "rssnet = rss.rssnet(parameters)\n",
    "\n",
    "rssnet.show()\n",
    "rssnet.show_p['show_content'] = 'recovered'\n",
    "rssnet.net.net_list[0].update_neighbor(n_neighbors=8,mask=rssnet.mask.cpu())\n",
    "for i in range(10):\n",
    "    rssnet.train()\n",
    "    if i % 4 == 0:\n",
    "        rssnet.net.net_list[0].update_neighbor(n_neighbors=8,mask=rssnet.mask.cpu(),mode='patch',labda=1,n_components=8)\n",
    "print(time.time()-start_time)\n",
    "rssnet.show()"
   ]
  },
  {
   "cell_type": "code",
   "execution_count": null,
   "metadata": {},
   "outputs": [],
   "source": [
    "# Tucker for random sampling\n",
    "import rss\n",
    "import numpy as np\n",
    "\n",
    "    \n",
    "parameters = {}\n",
    "net_list = []\n",
    "net_list.append({'net_name':'KNN','sizes':[256,256],'dim_cor':[256,256],'mode':'tensor'})\n",
    "\n",
    "parameters['net_p'] = {'gpu_id':0,'net_name':'composition','net_list':net_list}\n",
    "parameters['data_p'] = {'data_shape':(256,256),'random_rate':0.5,\n",
    "                        'pre_full':True,'mask_type':'patch','down_sample_rate':2,\n",
    "                        'data_type':'gray_img','data_path':'./data/img/man.bmp'}\n",
    "parameters['train_p'] = {'train_epoch':10000}\n",
    "parameters['show_p'] = {'show_type':'gray_img','show_content':'original'}\n",
    "rssnet = rss.rssnet(parameters)\n",
    "\n",
    "rssnet.show()\n",
    "rssnet.show_p['show_content'] = 'recovered'\n",
    "rssnet.net.net_list[0].update_neighbor(n_neighbors=5,mask=rssnet.mask.cpu())\n",
    "for i in range(10):\n",
    "    rssnet.train()\n",
    "    rssnet.show()\n",
    "    "
   ]
  }
 ],
 "metadata": {
  "kernelspec": {
   "display_name": "Python 3",
   "language": "python",
   "name": "python3"
  },
  "language_info": {
   "codemirror_mode": {
    "name": "ipython",
    "version": 3
   },
   "file_extension": ".py",
   "mimetype": "text/x-python",
   "name": "python",
   "nbconvert_exporter": "python",
   "pygments_lexer": "ipython3",
   "version": "3.7.0"
  }
 },
 "nbformat": 4,
 "nbformat_minor": 2
}
